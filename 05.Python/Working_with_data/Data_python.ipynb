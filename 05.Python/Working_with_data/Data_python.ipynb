{
 "cells": [
  {
   "cell_type": "markdown",
   "metadata": {},
   "source": [
    "## Working with Data\n",
    "### Reading files with open"
   ]
  },
  {
   "cell_type": "code",
   "execution_count": 33,
   "metadata": {},
   "outputs": [],
   "source": [
    "file1=open(\"/home/reema/test.cpp\",\"r\")\n"
   ]
  },
  {
   "cell_type": "code",
   "execution_count": 9,
   "metadata": {},
   "outputs": [
    {
     "name": "stdout",
     "output_type": "stream",
     "text": [
      "/home/reema/test.cpp\n"
     ]
    }
   ],
   "source": [
    "print(file1.name)"
   ]
  },
  {
   "cell_type": "code",
   "execution_count": 10,
   "metadata": {},
   "outputs": [
    {
     "name": "stdout",
     "output_type": "stream",
     "text": [
      "r\n"
     ]
    }
   ],
   "source": [
    "print(file1.mode)"
   ]
  },
  {
   "cell_type": "code",
   "execution_count": 23,
   "metadata": {},
   "outputs": [],
   "source": [
    "file1.close() #This frees up resources"
   ]
  },
  {
   "cell_type": "code",
   "execution_count": 34,
   "metadata": {},
   "outputs": [
    {
     "name": "stdout",
     "output_type": "stream",
     "text": [
      "#inc\n"
     ]
    }
   ],
   "source": [
    "# k=file1.read()\n",
    "k=file1.read(4)\n",
    "print(k)\n",
    "# type(k)"
   ]
  },
  {
   "cell_type": "code",
   "execution_count": 12,
   "metadata": {},
   "outputs": [
    {
     "name": "stdout",
     "output_type": "stream",
     "text": [
      "['#include <iostream>\\n', '\\n', 'using namespace std;\\n', '\\n', '\\n', 'int main(){\\n', '\\n', 'cout<<\"reema is testing\"<<endl;\\n', '\\n', '}\\n']\n",
      "file closed\n",
      "['#include <iostream>\\n', '\\n', 'using namespace std;\\n', '\\n', '\\n', 'int main(){\\n', '\\n', 'cout<<\"reema is testing\"<<endl;\\n', '\\n', '}\\n']\n"
     ]
    }
   ],
   "source": [
    "with open(\"/home/reema/test.cpp\") as file1:\n",
    "   # file_stuff=file1.read() # read all lines\n",
    "    file_stuff=file1.readlines() #to make files as a list\n",
    "    print(file_stuff)\n",
    "print(\"file closed\")\n",
    "print(file_stuff)\n"
   ]
  },
  {
   "cell_type": "code",
   "execution_count": 15,
   "metadata": {},
   "outputs": [
    {
     "name": "stdout",
     "output_type": "stream",
     "text": [
      "#include <iostream>\n",
      "\n",
      "\n",
      "\n",
      "using namespace std;\n",
      "\n",
      "file closed\n",
      "using namespace std;\n",
      "\n"
     ]
    }
   ],
   "source": [
    "with open(\"/home/reema/test.cpp\") as file1:\n",
    "   # file_stuff=file1.read() # read all lines\n",
    "   # file_stuff=file1.readlines() #to make files as a list\n",
    "    file_stuff=file1.readline()\n",
    "    print(file_stuff)\n",
    "    file_stuff=file1.readline()\n",
    "    print(file_stuff)\n",
    "    file_stuff=file1.readline()\n",
    "    print(file_stuff)\n",
    "print(\"file closed\")\n",
    "print(file_stuff)"
   ]
  },
  {
   "cell_type": "code",
   "execution_count": null,
   "metadata": {},
   "outputs": [],
   "source": [
    "with open('/home/reema/test.cpp')  as file2:\n",
    "    for line in file2:\n",
    "        print(line)"
   ]
  },
  {
   "cell_type": "code",
   "execution_count": 18,
   "metadata": {},
   "outputs": [
    {
     "name": "stdout",
     "output_type": "stream",
     "text": [
      "['#include <iostream>\\n']\n",
      "['\\n', 'using namespace std;\\n']\n",
      "['\\n', '\\n', 'int main(){\\n']\n"
     ]
    }
   ],
   "source": [
    "with open('/home/reema/test.cpp') as file3:\n",
    "    file_stuff=file3.readlines(2)\n",
    "    print(file_stuff)\n",
    "    file_stuff=file3.readlines(12)\n",
    "    print(file_stuff)\n",
    "    file_stuff=file3.readlines(2)\n",
    "    print(file_stuff)\n"
   ]
  },
  {
   "cell_type": "markdown",
   "metadata": {},
   "source": [
    "### Writing files with open\n"
   ]
  },
  {
   "cell_type": "code",
   "execution_count": 39,
   "metadata": {},
   "outputs": [
    {
     "data": {
      "text/plain": [
       "'this is reema'"
      ]
     },
     "execution_count": 39,
     "metadata": {},
     "output_type": "execute_result"
    }
   ],
   "source": [
    "fil1=open(\"/home/reema/test.cpp\",\"w\")\n",
    "fil1.write(\"this is reema\")\n",
    "fil1=open(\"/home/reema/test.cpp\",\"r\")\n",
    "fil1.read()"
   ]
  },
  {
   "cell_type": "code",
   "execution_count": 46,
   "metadata": {},
   "outputs": [],
   "source": [
    "lines = [\"this is reema \\n\",\"reema is 24 \\n\",\"reema is strong \\n\"]\n",
    "with open('/home/reema/test.cpp','w') as filll:\n",
    "    for line in lines:\n",
    "        filll.write(line)\n"
   ]
  },
  {
   "cell_type": "code",
   "execution_count": 42,
   "metadata": {},
   "outputs": [],
   "source": [
    "with open('/home/reema/test.cpp','a') as kk:\n",
    "    kk.write(\"extra:ill do my best \\n\")"
   ]
  },
  {
   "cell_type": "code",
   "execution_count": 47,
   "metadata": {},
   "outputs": [],
   "source": [
    "with open('/home/reema/test.cpp','r') as fileread:\n",
    "    with open('/home/reema/x.cpp','w') as filewrite:\n",
    "      for line in fileread:\n",
    "         filewrite.write(line)\n",
    "  "
   ]
  },
  {
   "cell_type": "markdown",
   "metadata": {},
   "source": [
    "## Additional modes\n",
    "It's fairly inefficient to open the file in **a** or **w** and then reopen it in **r** to read any lines. Luckily we can access the file in the following modes:\n",
    "- **r+** : Reading and writing. Cannot truncate the file.\n",
    "- **w+** : Writing and reading. Truncates the file.\n",
    "- **a+** : Appending and Reading. Creates a new file, if none exists.\n"
   ]
  },
  {
   "cell_type": "code",
   "execution_count": 49,
   "metadata": {},
   "outputs": [
    {
     "name": "stdout",
     "output_type": "stream",
     "text": [
      "\n"
     ]
    }
   ],
   "source": [
    "with open('/home/reema/tes.cpp','a+') as ff:\n",
    "    ff.write('im stronnnnnnnnnnnnnng')\n",
    "    print(ff.read())"
   ]
  },
  {
   "cell_type": "markdown",
   "metadata": {},
   "source": [
    ">File Pointer Basics\n",
    ">When you open a file in Python, a file pointer is automatically positioned at the >beginning of the file. As you perform operations like .read(), .write(), or .seek(),\n",
    ">the pointer moves around."
   ]
  },
  {
   "cell_type": "markdown",
   "metadata": {},
   "source": [
    "Opening the file in `w` is similar to opening the .txt file, moving your cursor to the beginning of the text file, writing new text and deleting everything that follows. Whereas opening the file in `a` is similar to opening the .txt file, moving your cursor to the very end and then adding the new pieces of text.\n",
    "It is often very useful to know where the 'cursor' is in a file and be able to control it. The following methods allow us to do precisely this -\n",
    "\n",
    "    `.tell()` - returns the current position in bytes\n",
    "    `.seek(offset,from)` - changes the position by 'offset' bytes with respect to 'from'. From can take the value of 0,1,2 corresponding to the beginning, relative to current position and end\n",
    "\n"
   ]
  },
  {
   "cell_type": "code",
   "execution_count": 55,
   "metadata": {},
   "outputs": [
    {
     "name": "stdout",
     "output_type": "stream",
     "text": [
      "Initial Location: 10\n",
      "Read nothing\n",
      "\n",
      "New Location : 0\n",
      "reeeeeeeem\n",
      "Location after read: 10\n"
     ]
    }
   ],
   "source": [
    "with open('Example2.txt', 'a+') as testwritefile:\n",
    "    print(\"Initial Location: {}\".format(testwritefile.tell()))\n",
    "    \n",
    "    data = testwritefile.read()\n",
    "    if (not data):  #empty strings return false in python\n",
    "            print('Read nothing') \n",
    "    else: \n",
    "            print(testwritefile.read())\n",
    "            \n",
    "    testwritefile.seek(0,0) # move 0 bytes from beginning.\n",
    "    \n",
    "    print(\"\\nNew Location : {}\".format(testwritefile.tell()))\n",
    "    data = testwritefile.read()\n",
    "    if (not data): \n",
    "            print('Read nothing') \n",
    "    else: \n",
    "            print(data)\n",
    "    \n",
    "    print(\"Location after read: {}\".format(testwritefile.tell()) )"
   ]
  },
  {
   "cell_type": "markdown",
   "metadata": {},
   "source": [
    "Finally, a note on the difference between **w+** and **r+**. Both of these modes allow access to read and write methods; however, opening a file in **w+** overwrites it and deletes all pre-existing data."
   ]
  },
  {
   "cell_type": "code",
   "execution_count": 58,
   "metadata": {},
   "outputs": [
    {
     "name": "stdout",
     "output_type": "stream",
     "text": [
      "Line 123\n",
      "Line 2\n",
      "Line 3\n",
      "Line 4ss\n",
      "finished\n",
      "\n"
     ]
    }
   ],
   "source": [
    "with open('Example2.txt', 'w+') as testwritefile:\n",
    "    # testwritefile.seek(0,0) #write at beginning of file\n",
    "   \n",
    "    testwritefile.write(\"Line 123\" + \"\\n\")\n",
    "    testwritefile.write(\"Line 2\" + \"\\n\")\n",
    "    testwritefile.write(\"Line 3\" + \"\\n\")\n",
    "    testwritefile.write(\"Line 4ss\" + \"\\n\")\n",
    "    testwritefile.write(\"finished\\n\")\n",
    "    testwritefile.seek(0,0)\n",
    "    print(testwritefile.read())"
   ]
  },
  {
   "cell_type": "markdown",
   "metadata": {},
   "source": [
    "Key Differences Between w+ and r+:\n",
    "1. r+ (Read and Write):\n",
    "\n",
    "    Purpose: Open a file for both reading and writing without truncating (deleting) its existing content.\n",
    "    Behavior:\n",
    "        The file must already exist, or you'll get a FileNotFoundError.\n",
    "        Writing starts at the beginning of the file, overwriting from there.\n",
    "        If you write less data than the file originally contained, the remaining old content will still be in the file unless explicitly truncated.\n",
    "\n",
    "2. w+ (Write and Read):\n",
    "\n",
    "    Purpose: Open a file for both writing and reading, but truncate (delete) all existing content.\n",
    "    Behavior:\n",
    "        If the file exists, all its content is deleted when you open it.\n",
    "        If the file doesn’t exist, it will be created.\n",
    "        Writing starts at the beginning of the empty file."
   ]
  },
  {
   "cell_type": "markdown",
   "metadata": {},
   "source": [
    "`.truncate()` trims the file from the current pointer position onward, so ensure you move the pointer to the correct position using seek() if needed."
   ]
  }
 ],
 "metadata": {
  "kernelspec": {
   "display_name": "Python 3",
   "language": "python",
   "name": "python3"
  },
  "language_info": {
   "codemirror_mode": {
    "name": "ipython",
    "version": 3
   },
   "file_extension": ".py",
   "mimetype": "text/x-python",
   "name": "python",
   "nbconvert_exporter": "python",
   "pygments_lexer": "ipython3",
   "version": "3.10.12"
  }
 },
 "nbformat": 4,
 "nbformat_minor": 2
}
