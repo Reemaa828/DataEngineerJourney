{
 "cells": [
  {
   "cell_type": "markdown",
   "metadata": {},
   "source": [
    "# Control flow\n",
    "- if , elif, else\n",
    "- make decision"
   ]
  },
  {
   "cell_type": "code",
   "execution_count": 1,
   "metadata": {},
   "outputs": [
    {
     "name": "stdout",
     "output_type": "stream",
     "text": [
      "your cuntry is EG\n"
     ]
    }
   ],
   "source": [
    "#if can be written in two ways\n",
    "\n",
    "country=\"EG\"\n",
    "#first way\n",
    "if country ==\"EG\":\n",
    "    print(f\"your cuntry is {country}\")\n",
    "elif country==\"KSA\":\n",
    "    print(f\"not egupt\")\n",
    "else:\n",
    "    \n",
    "    print(\"stop it\")\n",
    "\n",
    "# another way\n",
    "if country ==\"EG\": print(f\"your cuntry is {country}\")\n",
    "elif country==\"KSA\":print(f\"not egupt\")\n",
    "else:print(\"stop it\")\n",
    "\n",
    "    "
   ]
  },
  {
   "cell_type": "markdown",
   "metadata": {},
   "source": [
    "## Ternary Conditional operator\n",
    "## short if\n"
   ]
  },
  {
   "cell_type": "code",
   "execution_count": 2,
   "metadata": {},
   "outputs": [
    {
     "name": "stdout",
     "output_type": "stream",
     "text": [
      "reema\n"
     ]
    }
   ],
   "source": [
    "age=25\n",
    "print(\"reema\"if age > 24 else \"nooo\") #it just an english sentence"
   ]
  }
 ],
 "metadata": {
  "kernelspec": {
   "display_name": "Python 3",
   "language": "python",
   "name": "python3"
  },
  "language_info": {
   "codemirror_mode": {
    "name": "ipython",
    "version": 3
   },
   "file_extension": ".py",
   "mimetype": "text/x-python",
   "name": "python",
   "nbconvert_exporter": "python",
   "pygments_lexer": "ipython3",
   "version": "3.12.8"
  }
 },
 "nbformat": 4,
 "nbformat_minor": 2
}
