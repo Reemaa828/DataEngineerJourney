{
 "cells": [
  {
   "cell_type": "markdown",
   "metadata": {},
   "source": [
    "# Numbers\n"
   ]
  },
  {
   "cell_type": "code",
   "execution_count": 9,
   "metadata": {},
   "outputs": [
    {
     "name": "stdout",
     "output_type": "stream",
     "text": [
      "<class 'int'>\n",
      "<class 'int'>\n",
      "<class 'int'>\n",
      "<class 'int'>\n",
      "<class 'float'>\n",
      "<class 'float'>\n",
      "<class 'float'>\n",
      "<class 'float'>\n",
      "<class 'complex'>\n",
      "(5+8j)\n",
      "<class 'float'>\n",
      "5.0\n",
      "<class 'float'>\n",
      "8.0\n",
      "(1+0j)\n",
      "(1.54+0j)\n"
     ]
    }
   ],
   "source": [
    "#int, float, complex\n",
    "\n",
    "print(type(10))\n",
    "print(type(100))\n",
    "print(type(-10))\n",
    "print(type(101))\n",
    "\n",
    "print(type(10.5))\n",
    "print(type(100.5))\n",
    "print(type(-10.5))\n",
    "print(type(101.5))\n",
    "\n",
    "coplex=5+8j\n",
    "print(type(coplex))\n",
    "print(coplex)\n",
    "print(type(coplex.real))\n",
    "print(coplex.real)\n",
    "print(type(coplex.imag))\n",
    "print(coplex.imag)\n",
    "\n",
    "\n",
    "#we can convert int and float to each other and to complex\n",
    "#we can never convert complex into int, float\n",
    "print(complex(1))\n",
    "print(complex(1.54))\n",
    "# print(int(1+5j))\n",
    "\n",
    "\n",
    "\n",
    "\n"
   ]
  },
  {
   "cell_type": "markdown",
   "metadata": {},
   "source": [
    "# Arithmetic operators\n",
    "- '+'\n",
    "- '-'\n",
    "- '\\'\n",
    "- '//' floor division\n",
    "- '**' exponent\n",
    "- '*'"
   ]
  },
  {
   "cell_type": "code",
   "execution_count": 12,
   "metadata": {},
   "outputs": [
    {
     "name": "stdout",
     "output_type": "stream",
     "text": [
      "1024\n",
      "24\n"
     ]
    }
   ],
   "source": [
    "print(4 ** 5)\n",
    "\n",
    "print(121 // 5)"
   ]
  }
 ],
 "metadata": {
  "kernelspec": {
   "display_name": "Python 3",
   "language": "python",
   "name": "python3"
  },
  "language_info": {
   "codemirror_mode": {
    "name": "ipython",
    "version": 3
   },
   "file_extension": ".py",
   "mimetype": "text/x-python",
   "name": "python",
   "nbconvert_exporter": "python",
   "pygments_lexer": "ipython3",
   "version": "3.10.12"
  }
 },
 "nbformat": 4,
 "nbformat_minor": 2
}
