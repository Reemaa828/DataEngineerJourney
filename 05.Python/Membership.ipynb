{
 "cells": [
  {
   "cell_type": "markdown",
   "metadata": {},
   "source": [
    "# Membership operators\n",
    "- in  \n",
    "- not in"
   ]
  },
  {
   "cell_type": "code",
   "execution_count": 2,
   "metadata": {},
   "outputs": [
    {
     "name": "stdout",
     "output_type": "stream",
     "text": [
      "it exits\n",
      "True\n"
     ]
    }
   ],
   "source": [
    "#string\n",
    "name=\"this is reema\"\n",
    "print(\"it exits\"if \"is\" in name else \"nooo\")\n",
    "\n",
    "#list\n",
    "llis=[\"reem\",\"misi\",\"Rerem\"]\n",
    "print(\"Reem\" not in llis)\n",
    "\n",
    "#in and not in with condition\n"
   ]
  },
  {
   "cell_type": "code",
   "execution_count": 7,
   "metadata": {},
   "outputs": [
    {
     "name": "stdout",
     "output_type": "stream",
     "text": [
      "exit\n"
     ]
    }
   ],
   "source": [
    "#membership control\n",
    "\n",
    "name=input(\"hello print your username\").strip().capitalize()\n",
    "\n",
    "members=[\"Reem\",\"Riri\",\"Jessica\",\"Alex\",\"Osama\",\"Fredy\"]\n",
    "if name in members:\n",
    "    print(f\"welcome {name}\")\n",
    "else:\n",
    "    choice=input(\"do you want to signup: yes or no\").strip().lower()\n",
    "    if choice == \"yes\":\n",
    "        members.append(name)\n",
    "        print(\"Now you are a member\")\n",
    "    else:\n",
    "        print(\"exit\")\n"
   ]
  }
 ],
 "metadata": {
  "kernelspec": {
   "display_name": "Python 3",
   "language": "python",
   "name": "python3"
  },
  "language_info": {
   "codemirror_mode": {
    "name": "ipython",
    "version": 3
   },
   "file_extension": ".py",
   "mimetype": "text/x-python",
   "name": "python",
   "nbconvert_exporter": "python",
   "pygments_lexer": "ipython3",
   "version": "3.12.8"
  }
 },
 "nbformat": 4,
 "nbformat_minor": 2
}
