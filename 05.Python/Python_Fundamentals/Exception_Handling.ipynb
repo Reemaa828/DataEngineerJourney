{
 "cells": [
  {
   "cell_type": "markdown",
   "metadata": {},
   "source": [
    "# Exception Handling\n",
    "## What's an exception\n",
    "- it's an error that occurs during execution time.\n",
    "- if the exception is not handled, it will halt the execution.\n"
   ]
  },
  {
   "cell_type": "code",
   "execution_count": null,
   "metadata": {},
   "outputs": [],
   "source": [
    "# 1/0 #ZeroDivisionError\n",
    "# y=a+5 #NameError\n",
    "# a=[1,2,3]\n",
    "# a[10] #Index Error"
   ]
  },
  {
   "cell_type": "markdown",
   "metadata": {},
   "source": [
    "## How to Handle exception?\n",
    "- instead of halting the execution we will perform specific tasks when an exception occurs\n",
    "- `try:` `except:`\n",
    "\n"
   ]
  },
  {
   "cell_type": "code",
   "execution_count": 4,
   "metadata": {},
   "outputs": [
    {
     "name": "stdout",
     "output_type": "stream",
     "text": [
      "Error\n"
     ]
    }
   ],
   "source": [
    "try:\n",
    "    a=int(input(\"enter a number\"))\n",
    "    b=1\n",
    "    z=b/a\n",
    "    print(z)\n",
    "except:\n",
    "    print(\"Error\")"
   ]
  },
  {
   "cell_type": "markdown",
   "metadata": {},
   "source": [
    "### Specific exception handling\n",
    "using specific type of error"
   ]
  },
  {
   "cell_type": "code",
   "execution_count": 12,
   "metadata": {},
   "outputs": [
    {
     "name": "stdout",
     "output_type": "stream",
     "text": [
      "object undefined or zero division error\n",
      "object undefined or zero division error\n",
      "different kind of error\n",
      "yess\n",
      "different kind of error\n",
      "No\n"
     ]
    }
   ],
   "source": [
    "# there are three ways\n",
    "#first one\n",
    "try:\n",
    "    z=1/0\n",
    "    b=c+1\n",
    "except (NameError, ZeroDivisionError):\n",
    "    print(\"object undefined or zero division error\")\n",
    "\n",
    "#Second one\n",
    "try:\n",
    "    z=1/0\n",
    "    b=c+1\n",
    "except NameError:\n",
    "    print(\"object undefined\")\n",
    "except ZeroDivisionError:\n",
    "    print(\"object undefined or zero division error\")\n",
    "\n",
    "#third way\n",
    "try:\n",
    "    c=[1,2,3]\n",
    "    b=c[10]\n",
    "except NameError:\n",
    "    print(\"object undefined\")\n",
    "except ZeroDivisionError:\n",
    "    print(\"object undefined or zero division error\")\n",
    "except:\n",
    "    print(\"different kind of error\")\n",
    "\n",
    "#execute code if no error\n",
    "try:\n",
    "    c=[1,2,3]\n",
    "    b=c[1]\n",
    "except NameError:\n",
    "    print(\"object undefined\")\n",
    "except ZeroDivisionError:\n",
    "    print(\"object undefined or zero division error\")\n",
    "except:\n",
    "    print(\"different kind of error\")\n",
    "else:\n",
    "    print(\"yess\")\n",
    "\n",
    "#execute code if there's error or not\n",
    "try:\n",
    "    c=[1,2,3]\n",
    "    b=c[10]\n",
    "except NameError:\n",
    "    print(\"object undefined\")\n",
    "except ZeroDivisionError:\n",
    "    print(\"object undefined or zero division error\")\n",
    "except:\n",
    "    print(\"different kind of error\")\n",
    "else:\n",
    "    print(\"yess\")\n",
    "finally:\n",
    "    print(\"No\")"
   ]
  },
  {
   "cell_type": "code",
   "execution_count": 13,
   "metadata": {},
   "outputs": [
    {
     "name": "stdout",
     "output_type": "stream",
     "text": [
      "0\n"
     ]
    }
   ],
   "source": [
    "x=1\n",
    "if x!=1:\n",
    "    y=1\n",
    "else:\n",
    "    y=0\n",
    "\n",
    "print(y)"
   ]
  }
 ],
 "metadata": {
  "kernelspec": {
   "display_name": "Python 3",
   "language": "python",
   "name": "python3"
  },
  "language_info": {
   "codemirror_mode": {
    "name": "ipython",
    "version": 3
   },
   "file_extension": ".py",
   "mimetype": "text/x-python",
   "name": "python",
   "nbconvert_exporter": "python",
   "pygments_lexer": "ipython3",
   "version": "3.10.12"
  }
 },
 "nbformat": 4,
 "nbformat_minor": 2
}
