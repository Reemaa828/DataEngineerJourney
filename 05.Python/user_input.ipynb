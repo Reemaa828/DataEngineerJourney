{
 "cells": [
  {
   "cell_type": "markdown",
   "metadata": {},
   "source": [
    "# User input\n"
   ]
  },
  {
   "cell_type": "code",
   "execution_count": null,
   "metadata": {},
   "outputs": [
    {
     "name": "stdout",
     "output_type": "stream",
     "text": [
      "hello reem a\n"
     ]
    }
   ],
   "source": [
    "# input(\"heeloo\") #it stop executing the program until it gets an input from user\n",
    "name = input(\"what's your first name\")\n",
    "lname = input(\"what's your last name\")\n",
    "print(f\"hello {name} {lname:.1s}\")"
   ]
  },
  {
   "cell_type": "code",
   "execution_count": 11,
   "metadata": {},
   "outputs": [
    {
     "name": "stdout",
     "output_type": "stream",
     "text": [
      "my name is Reema Is Amazing\n"
     ]
    }
   ],
   "source": [
    "#chain methods\n",
    "#for example\n",
    "stt=\"####reema is amazing######\"\n",
    "print(f\"my name is {stt.strip(\"#\").title()}\")"
   ]
  },
  {
   "cell_type": "code",
   "execution_count": 12,
   "metadata": {},
   "outputs": [
    {
     "name": "stdout",
     "output_type": "stream",
     "text": [
      "your username reemoto51 and your domain is gmail.com\n"
     ]
    }
   ],
   "source": [
    "#practise to get the username and domain of an email\n",
    "email=input(\"what's your email\")\n",
    "number=email.index(\"@\")\n",
    "username=email[:number]\n",
    "domain=email[number+1:]\n",
    "print(f\"your username {username} and your domain is {domain}\")"
   ]
  }
 ],
 "metadata": {
  "kernelspec": {
   "display_name": "Python 3",
   "language": "python",
   "name": "python3"
  },
  "language_info": {
   "codemirror_mode": {
    "name": "ipython",
    "version": 3
   },
   "file_extension": ".py",
   "mimetype": "text/x-python",
   "name": "python",
   "nbconvert_exporter": "python",
   "pygments_lexer": "ipython3",
   "version": "3.12.8"
  }
 },
 "nbformat": 4,
 "nbformat_minor": 2
}
