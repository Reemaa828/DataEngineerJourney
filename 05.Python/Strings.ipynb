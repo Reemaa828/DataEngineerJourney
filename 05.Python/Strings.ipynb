{
 "cells": [
  {
   "cell_type": "markdown",
   "metadata": {},
   "source": [
    "## Concatentation\n"
   ]
  },
  {
   "cell_type": "code",
   "execution_count": 1,
   "metadata": {},
   "outputs": [
    {
     "name": "stdout",
     "output_type": "stream",
     "text": [
      "I love python\n"
     ]
    }
   ],
   "source": [
    "msg=\"I love \"\n",
    "lang=\"python\"\n",
    "print(msg+lang)"
   ]
  },
  {
   "cell_type": "markdown",
   "metadata": {},
   "source": [
    "## Strings\n"
   ]
  },
  {
   "cell_type": "code",
   "execution_count": 2,
   "metadata": {},
   "outputs": [
    {
     "name": "stdout",
     "output_type": "stream",
     "text": [
      "rerem\n",
      "erer\n",
      "Rere err rer \n",
      "erer\n",
      "sas\n",
      "assad\n",
      "erer\n",
      "sas \"rere\" \\ 'reree'\n",
      "assad\n",
      "erer\n",
      "sas \"rere\" 'reree'\n",
      "assad\n",
      "erer\n",
      "sas \"rere\" \\\\ 'reree'\n",
      "assad\n"
     ]
    }
   ],
   "source": [
    "str=\"rerem\"\n",
    "str1='erer'\n",
    "print(str + \"\\n\" +str1)\n",
    "\n",
    "str2=\"re'erre're'ree'\"\n",
    "str3='rere\"ree\"'\n",
    "\n",
    "str4=\"Rere \\\n",
    "err \\\n",
    "rer \"\n",
    "print(str4)\n",
    "\n",
    "str5=\"\"\"erer\n",
    "sas\n",
    "assad\"\"\"\n",
    "print(str5)\n",
    "\n",
    "str6=\"\"\"erer\n",
    "sas \"rere\" \\\\ 'reree'\n",
    "assad\"\"\"\n",
    "print(str6)\n",
    "str6=\"\"\"erer\n",
    "sas \"rere\" \\'reree'\n",
    "assad\"\"\"\n",
    "print(str6)\n",
    "str6=\"\"\"erer\n",
    "sas \"rere\" \\\\\\ 'reree'\n",
    "assad\"\"\"\n",
    "print(str6)\n",
    "\n"
   ]
  },
  {
   "cell_type": "markdown",
   "metadata": {},
   "source": [
    "## Indexing and Slicing\n"
   ]
  },
  {
   "cell_type": "code",
   "execution_count": 9,
   "metadata": {},
   "outputs": [
    {
     "name": "stdout",
     "output_type": "stream",
     "text": [
      "i\n",
      "o\n",
      "m\n",
      " lov\n",
      " oere\n"
     ]
    }
   ],
   "source": [
    "#indexing\n",
    "reerm=\"i love reem\"\n",
    "print(reerm[0]) #zero index \n",
    "print(reerm[3])\n",
    "print(reerm[-1]) #negative index\n",
    "\n",
    "#slicing\n",
    "#[start:end]\n",
    "#[start:end:steps]\n",
    "print(reerm[1:5])\n",
    "print(reerm[1::2])"
   ]
  },
  {
   "cell_type": "markdown",
   "metadata": {},
   "source": [
    "## String methods\n"
   ]
  },
  {
   "cell_type": "code",
   "execution_count": 12,
   "metadata": {},
   "outputs": [
    {
     "name": "stdout",
     "output_type": "stream",
     "text": [
      "29\n",
      "16\n"
     ]
    }
   ],
   "source": [
    "#len\n",
    "a=\"           i love reema      \"\n",
    "b=\"  i love reema  \"\n",
    "print(len(a))\n",
    "print(len(b))"
   ]
  },
  {
   "cell_type": "code",
   "execution_count": 15,
   "metadata": {},
   "outputs": [
    {
     "name": "stdout",
     "output_type": "stream",
     "text": [
      "i love reema\n",
      "i love reema      \n",
      "           i love reema\n",
      "reremremrm ewkkd sfsfv \n",
      "reremremrm ewkkd sfsfv ######\n",
      "#####reremremrm ewkkd sfsfv \n"
     ]
    }
   ],
   "source": [
    "#strip\n",
    "#by default it remove whitespaces\n",
    "print(a.strip())\n",
    "print(a.lstrip())\n",
    "print(a.rstrip())\n",
    "\n",
    "#use different character\n",
    "a=\"#####reremremrm ewkkd sfsfv ######\"\n",
    "print(a.strip('#'))\n",
    "print(a.lstrip(\"#\"))\n",
    "print(a.rstrip(\"#\"))"
   ]
  },
  {
   "cell_type": "code",
   "execution_count": 17,
   "metadata": {},
   "outputs": [
    {
     "name": "stdout",
     "output_type": "stream",
     "text": [
      "I Lovve Python 2D And Rhhsks 3G Asajj\n",
      "I lovve python 2d and rhhsks 3g asajj\n"
     ]
    }
   ],
   "source": [
    "#title --> uppercase every starting letter of words in the string\n",
    "a=\"i lovve python 2d and rhhsks 3g asajj\"\n",
    "print(a.title())\n",
    "\n",
    "#capitalize --> uppercase only the first letter\n",
    "print(a.capitalize())"
   ]
  },
  {
   "cell_type": "code",
   "execution_count": 18,
   "metadata": {},
   "outputs": [
    {
     "name": "stdout",
     "output_type": "stream",
     "text": [
      "0001\n",
      "0011\n",
      "0111\n",
      "1111\n"
     ]
    }
   ],
   "source": [
    "#zfill --> fill with zeros to suit number pattern\n",
    "#for example\n",
    "#1,11,111,1111\n",
    "#0001,0011,0111,1111\n",
    "a,b,c,d=\"1\",\"11\",\"111\",\"1111\"\n",
    "print(a.zfill(4))\n",
    "print(b.zfill(4))\n",
    "print(c.zfill(4))\n",
    "print(d.zfill(4))"
   ]
  },
  {
   "cell_type": "code",
   "execution_count": 19,
   "metadata": {},
   "outputs": [
    {
     "name": "stdout",
     "output_type": "stream",
     "text": [
      "REEEM\n"
     ]
    }
   ],
   "source": [
    "#upper --> uppercase\n",
    "print(\"Reeem\".upper())"
   ]
  },
  {
   "cell_type": "code",
   "execution_count": 26,
   "metadata": {},
   "outputs": [
    {
     "name": "stdout",
     "output_type": "stream",
     "text": [
      "['i', 'love', 'reem', 'and', 'reema']\n",
      "['i', 'love', 'reem', 'and', 'reema']\n",
      "['i', 'love', 'reema and asja']\n",
      "['i love reeem', 'and', 'reema']\n"
     ]
    }
   ],
   "source": [
    "#split ---> returns a list using whitespace as separtor by default\n",
    "a=\"i love reem and reema\"\n",
    "print(a.split())\n",
    "\n",
    "#uses '-' as separtor\n",
    "a=\"i-love-reem-and-reema\"\n",
    "print(a.split('-'))\n",
    "\n",
    "#maxsplit --> but number of elements you want to split and rest as one element\n",
    "b=\"i love reema and asja\"\n",
    "print(b.split(None,2))\n",
    "\n",
    "#rsplit ---> will seperate 2 in the right \n",
    "c=\"i love reeem and reema\"\n",
    "print(c.rsplit(None,2))\n"
   ]
  },
  {
   "cell_type": "code",
   "execution_count": 30,
   "metadata": {},
   "outputs": [
    {
     "name": "stdout",
     "output_type": "stream",
     "text": [
      "@@Reem@\n",
      "  Reem \n"
     ]
    }
   ],
   "source": [
    "#center() ----> add things to the string by default it will  add spaces\n",
    "a=\"Reem\"\n",
    "print(a.center(7,'@')) \n",
    "print(a.center(7)) "
   ]
  },
  {
   "cell_type": "code",
   "execution_count": 33,
   "metadata": {},
   "outputs": [
    {
     "name": "stdout",
     "output_type": "stream",
     "text": [
      "3\n",
      "1\n"
     ]
    }
   ],
   "source": [
    "#count ---> counts the occurances of a string\n",
    "a=\"im reem and im reem twoo how many reem are we?\"\n",
    "print(a.count(\"reem\"))\n",
    "\n",
    "#count with end and start\n",
    "print(a.count(\"reem\",0,9))"
   ]
  },
  {
   "cell_type": "code",
   "execution_count": 34,
   "metadata": {},
   "outputs": [
    {
     "name": "stdout",
     "output_type": "stream",
     "text": [
      "i lOVE and PYthonn\n"
     ]
    }
   ],
   "source": [
    "#swapcase ---> swap uppercase to lowercase and vise versa\n",
    "a=\"I Love AND pyTHONN\"\n",
    "print(a.swapcase())"
   ]
  },
  {
   "cell_type": "code",
   "execution_count": 39,
   "metadata": {},
   "outputs": [
    {
     "name": "stdout",
     "output_type": "stream",
     "text": [
      "True\n",
      "True\n",
      "True\n",
      "True\n"
     ]
    }
   ],
   "source": [
    "# startswith ----> returns bool \n",
    "a=\"reem and asaskkas\"\n",
    "print(a.startswith(\"r\")) \n",
    "print(a.startswith(\"a\",5,11)) \n",
    "\n",
    "# endswith ---> returns bool if it ends with such letter\n",
    "print(a.endswith(\"s\"))\n",
    "print(a.endswith(\"s\",0,11))\n"
   ]
  },
  {
   "cell_type": "code",
   "execution_count": 44,
   "metadata": {},
   "outputs": [
    {
     "name": "stdout",
     "output_type": "stream",
     "text": [
      "7\n",
      "7\n",
      "7\n",
      "7\n",
      "-1\n"
     ]
    }
   ],
   "source": [
    "#index ----> index(substring,start,end) returns the index of first letter\n",
    "a=\"i love reem\"\n",
    "print(a.index(\"reem\"))\n",
    "print(a.index(\"r\",5,10))\n",
    "# print(a.index(\"r\",0,5)) # error\n",
    "\n",
    "#find() -----> will do the same thing as index but will not throw an error\n",
    "print(a.find(\"reem\"))\n",
    "print(a.find(\"r\",5,10))\n",
    "print(a.find(\"r\",0,5)) # will return -1 if failed\n",
    "\n"
   ]
  },
  {
   "cell_type": "code",
   "execution_count": 47,
   "metadata": {},
   "outputs": [
    {
     "name": "stdout",
     "output_type": "stream",
     "text": [
      "        I love reema\n",
      "########I love reema\n",
      "I love reema        \n",
      "I love reema########\n"
     ]
    }
   ],
   "source": [
    "#rjust,ljust --> same as center adding characters to the string\n",
    "#means left justify making the string in the left and the fill character the other side\n",
    "a=\"I love reema\"\n",
    "print(a.rjust(20))\n",
    "print(a.rjust(20,\"#\"))\n",
    "print(a.ljust(20))\n",
    "print(a.ljust(20,'#'))\n",
    "\n",
    "\n"
   ]
  },
  {
   "cell_type": "code",
   "execution_count": 48,
   "metadata": {},
   "outputs": [
    {
     "name": "stdout",
     "output_type": "stream",
     "text": [
      "[' trttr', 'ddgd', 'gdgd']\n"
     ]
    }
   ],
   "source": [
    "#splitlines ---> return everyline as a list\n",
    "a=\"\"\" trttr\n",
    "ddgd\n",
    "gdgd\n",
    "\"\"\"\n",
    "print(a.splitlines())\n"
   ]
  },
  {
   "cell_type": "code",
   "execution_count": 49,
   "metadata": {},
   "outputs": [
    {
     "name": "stdout",
     "output_type": "stream",
     "text": [
      "line\tannnd\treeem\tewmem\n",
      "line  annnd reeem ewmem\n"
     ]
    }
   ],
   "source": [
    "#expandtabs ------> return the number of tabs\n",
    "a=\"line\\tannnd\\treeem\\tewmem\"\n",
    "print(a)\n",
    "print(a.expandtabs(2))"
   ]
  },
  {
   "cell_type": "code",
   "execution_count": 60,
   "metadata": {},
   "outputs": [
    {
     "name": "stdout",
     "output_type": "stream",
     "text": [
      "True\n",
      "True\n",
      "True\n",
      "False\n",
      "True\n",
      "False\n",
      "True\n",
      "True\n",
      "True\n"
     ]
    }
   ],
   "source": [
    "# is? bool?\n",
    "a=\"I Love Python 3G\"\n",
    "print(a.istitle())\n",
    "a=\"REEEM\"\n",
    "print(a.isupper())\n",
    "a=\"rrre\"\n",
    "print(a.islower())\n",
    "a=\"ASAOS--SAS\"\n",
    "print(a.isidentifier())\n",
    "a=\"ASAOS__SAS\"\n",
    "print(a.isidentifier())\n",
    "a=\"AADSD11\"\n",
    "print(a.isalpha())\n",
    "print(a.isalnum())\n",
    "print(\" \".isspace())\n"
   ]
  },
  {
   "cell_type": "code",
   "execution_count": 63,
   "metadata": {},
   "outputs": [
    {
     "name": "stdout",
     "output_type": "stream",
     "text": [
      "number 1 and two and three and 1 and 1\n",
      "number 1 and two and three and 1 and one\n",
      "number 1 and two and three and one and one\n"
     ]
    }
   ],
   "source": [
    "#replace(old value, new value, count) ---> replace a substring with another\n",
    "a=\"number one and two and three and one and one\"\n",
    "print(a.replace(\"one\",\"1\"))\n",
    "print(a.replace(\"one\",\"1\",2))\n",
    "print(a.replace(\"one\",\"1\",1))"
   ]
  },
  {
   "cell_type": "code",
   "execution_count": 65,
   "metadata": {},
   "outputs": [
    {
     "name": "stdout",
     "output_type": "stream",
     "text": [
      "reem almahdi abdelrazik\n"
     ]
    }
   ],
   "source": [
    "#join(iterable)\n",
    "a=[\"reem\",\"almahdi\",\"abdelrazik\"]\n",
    "print(\" \".join(a))"
   ]
  },
  {
   "cell_type": "markdown",
   "metadata": {},
   "source": [
    "## string formatting\n"
   ]
  },
  {
   "cell_type": "code",
   "execution_count": 71,
   "metadata": {},
   "outputs": [
    {
     "name": "stdout",
     "output_type": "stream",
     "text": [
      "My name is reerm\n",
      "My name is reem\n",
      "My name is reem and my ages is 24\n",
      "my name reem and age is 24 and salary 100.0023\n",
      "the reem the r\n"
     ]
    }
   ],
   "source": [
    "name = \"reem\"\n",
    "age = 24\n",
    "print(\"My name is %s\" % \"reerm\")\n",
    "print(\"My name is %s\" % name)\n",
    "print(\"My name is %s and my ages is %s\" % (name,age))\n",
    "\n",
    "mysalary =100.0023\n",
    "print(\"my name %s and age is %d and salary %.4f\" % (name,age,mysalary))\n",
    "\n",
    "#truncate string --> show specific elements\n",
    "nnn=\"the room is loud\"\n",
    "print(\"the reem %.5s\" % nnn)"
   ]
  },
  {
   "cell_type": "markdown",
   "metadata": {},
   "source": [
    "## Modern way of formating\n"
   ]
  },
  {
   "cell_type": "code",
   "execution_count": 83,
   "metadata": {},
   "outputs": [
    {
     "name": "stdout",
     "output_type": "stream",
     "text": [
      "reem is 24\n",
      "reem is also reerm\n",
      "reem is also reerm and age is 24.323\n",
      "reem is also reerm and age is 24.323000\n",
      "reem is also reerm and age is 24.323\n",
      "reem is re\n",
      "my money in bank is:21,212,121\n",
      "hello one two three\n",
      "hello two one three\n",
      "i am {myname} and my age is {age}\n",
      "i am reem and my age is 24\n"
     ]
    }
   ],
   "source": [
    "name=\"reerm\"\n",
    "age=24.323\n",
    "print(\"reem is {}\".format(\"24\"))\n",
    "print(\"reem is also {}\".format(name))\n",
    "print(\"reem is also {} and age is {}\".format(name,age))\n",
    "print(\"reem is also {:s} and age is {:f}\".format(name,age))\n",
    "print(\"reem is also {:s} and age is {:.3f}\".format(name,age))\n",
    "\n",
    "#turncate string\n",
    "print(\"reem is {:.2s}\".format(name))\n",
    "\n",
    "#format money\n",
    "mymoney=21212121\n",
    "print(\"my money in bank is:{:,d}\".format(mymoney))\n",
    "\n",
    "#arrage variables\n",
    "print(\"hello {} {} {}\".format(\"one\",\"two\",\"three\"))\n",
    "print(\"hello {1} {0} {2}\".format(\"one\",\"two\",\"three\"))\n",
    "\n",
    "#format in newer versions of python\n",
    "myname=\"reem\"\n",
    "age=24\n",
    "print(\"i am {myname} and my age is {age}\")\n",
    "print(f\"i am {myname} and my age is {age}\")"
   ]
  },
  {
   "cell_type": "code",
   "execution_count": 3,
   "metadata": {},
   "outputs": [
    {
     "name": "stdout",
     "output_type": "stream",
     "text": [
      "i lov rmo\n",
      "Hello Pam!\n"
     ]
    }
   ],
   "source": [
    "#maketrans(x,y) ---> replace letters with other letters\n",
    "#maketrans(x,y,z) ---> remove letters from original strings\n",
    "#translate ---> use the maketrans in action (make it show in the string)\n",
    "ss=\"i love reema\"\n",
    "x=\"a\"\n",
    "y=\"o\"\n",
    "z=\"e\"\n",
    "xx=str.maketrans(x,y,z)\n",
    "print(ss.translate(xx))\n",
    "\n",
    "\n",
    "#you can use with translate dictionary or a mapping table\n",
    "mydict = {83:  80}\n",
    "txt = \"Hello Sam!\"\n",
    "print(txt.translate(mydict))"
   ]
  },
  {
   "cell_type": "code",
   "execution_count": 2,
   "metadata": {},
   "outputs": [
    {
     "name": "stdout",
     "output_type": "stream",
     "text": [
      "('i love ', 'reema', ' and rrreem and reema i love rrr')\n"
     ]
    }
   ],
   "source": [
    "#partition(\"\") ----> this will look for the match and returns a tuple with three elements\n",
    "#the tuple will include:\n",
    "#1.the string before the match\n",
    "#2.the match\n",
    "#3.the string after the match\n",
    "\n",
    "\n",
    "#the tuple is based on the first occurrence of the match\n",
    "xx=\"i love reema and rrreem and reema i love rrr\"\n",
    "print(xx.partition(\"reema\"))"
   ]
  },
  {
   "cell_type": "code",
   "execution_count": null,
   "metadata": {},
   "outputs": [],
   "source": []
  }
 ],
 "metadata": {
  "kernelspec": {
   "display_name": "Python 3",
   "language": "python",
   "name": "python3"
  },
  "language_info": {
   "codemirror_mode": {
    "name": "ipython",
    "version": 3
   },
   "file_extension": ".py",
   "mimetype": "text/x-python",
   "name": "python",
   "nbconvert_exporter": "python",
   "pygments_lexer": "ipython3",
   "version": "3.10.12"
  }
 },
 "nbformat": 4,
 "nbformat_minor": 2
}
