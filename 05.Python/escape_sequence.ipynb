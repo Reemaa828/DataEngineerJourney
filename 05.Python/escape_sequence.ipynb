{
 "cells": [
  {
   "cell_type": "markdown",
   "metadata": {},
   "source": [
    "## Escape sequence\n",
    "- To insert characters that are illegal in a string, use an escape character.\n",
    "\n",
    "|     |     |     |\n",
    "|-----|-----|-----|\n",
    "|Code|Result|Try it|\n",
    "|\\' \t|Single Quote\t    |print('It\\'s a test')             |\n",
    "|\\\\\t    |Backslash\t        |print('This is a backslash: \\\\')|\n",
    "|\\n\t    |New Line\t        |print('Line 1\\nLine 2')|\n",
    "|\\r\t    |Carriage Return\t|print('Hello\\rWorld')|\n",
    "|\\t\t    |Tab\t            |print('Name:\\tJohn')|\n",
    "|\\b\t    |Backspace\t        |print('Hello\\bWorld')|\n",
    "|\\ooo\t|Octal value\t    |print('\\101') (prints 'A')|\n",
    "|\\xhh\t|Hex value\t        |print('\\x41') (prints 'A')|"
   ]
  },
  {
   "cell_type": "code",
   "execution_count": 1,
   "metadata": {},
   "outputs": [
    {
     "name": "stdout",
     "output_type": "stream",
     "text": [
      "It's a test\n",
      "This is a backslash: \\\n",
      "Line 1\n",
      "Line 2\n",
      "World\n",
      "Name:\tJohn\n",
      "HellWorld\n",
      "A\n",
      "A\n"
     ]
    }
   ],
   "source": [
    "txt=\"reeemmeem\\\"rere\\\"\"\n",
    "\n",
    "print('It\\'s a test')           \n",
    "print('This is a backslash: \\\\')\n",
    "print('Line 1\\nLine 2')\n",
    "\n",
    "print('Hello\\rWorld')\n",
    "\n",
    "print('Name:\\tJohn')\n",
    "\n",
    "print('Hello\\bWorld')\n",
    "\n",
    "print('\\101') \n",
    "\n",
    "print('\\x41') \n"
   ]
  },
  {
   "cell_type": "code",
   "execution_count": null,
   "metadata": {},
   "outputs": [],
   "source": []
  }
 ],
 "metadata": {
  "kernelspec": {
   "display_name": "Python 3",
   "language": "python",
   "name": "python3"
  },
  "language_info": {
   "codemirror_mode": {
    "name": "ipython",
    "version": 3
   },
   "file_extension": ".py",
   "mimetype": "text/x-python",
   "name": "python",
   "nbconvert_exporter": "python",
   "pygments_lexer": "ipython3",
   "version": "3.10.12"
  }
 },
 "nbformat": 4,
 "nbformat_minor": 2
}
