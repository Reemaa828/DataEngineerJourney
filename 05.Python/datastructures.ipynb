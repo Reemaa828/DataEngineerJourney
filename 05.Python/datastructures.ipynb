{
 "cells": [
  {
   "cell_type": "markdown",
   "metadata": {},
   "source": [
    "# Data structures\n",
    "## Lists\n",
    "- is mutable (add,remove,edit)\n",
    "- ordered  (use index to access them)\n",
    "- have different data types\n",
    "- not unique"
   ]
  },
  {
   "cell_type": "code",
   "execution_count": 4,
   "metadata": {},
   "outputs": [
    {
     "name": "stdout",
     "output_type": "stream",
     "text": [
      "<class 'list'>\n",
      "10.5\n",
      "[2102, '121', 'looov', 10.5, 121]\n",
      "121\n",
      "[2102, '121', 'looov', 10.5]\n",
      "None\n",
      "[2102, '121', 'looov', 10.5, '232']\n"
     ]
    }
   ],
   "source": [
    "llist=[121,\"121\",\"looov\",10.5,121] #different data types\n",
    "print(type(llist))\n",
    "print(llist[3]) #ordered\n",
    "llist[0]=2102 #changed\n",
    "print(llist)\n",
    "print(llist.pop()) #remove\n",
    "print(llist)\n",
    "print(llist.append(\"232\")) #add elements\n",
    "print(llist)\n"
   ]
  },
  {
   "cell_type": "markdown",
   "metadata": {},
   "source": [
    "## Methods on lists"
   ]
  },
  {
   "cell_type": "code",
   "execution_count": 10,
   "metadata": {},
   "outputs": [
    {
     "name": "stdout",
     "output_type": "stream",
     "text": [
      "['ere', 'rerm', 'rere', 'ereer1', 'ereer2', 'ereer3']\n",
      "['ere', 'rerm', 'rere', 'ereer1', 'ereer2', 'ereer3', ['ere', 'rerm', 'rere']]\n",
      "rere\n",
      "['ere', 'rerm', 'rere', 'ereer1', 'ereer2', 'ereer3', 'ere', 'rerm', 'rere']\n"
     ]
    }
   ],
   "source": [
    "#append()\n",
    "list1= [\"ere\",\"rerm\",\"rere\"]\n",
    "list2= [\"ere\",\"rerm\",\"rere\"]\n",
    "list1.append(\"ereer1\")\n",
    "list1.append(\"ereer2\")\n",
    "list1.append(\"ereer3\")\n",
    "print(list1)\n",
    "list1.append(list2) #add them as one element\n",
    "print(list1)\n",
    "print(list1[-1][2])\n",
    "list1.pop()\n",
    "list1.extend(list2) #add them as seperate elements\n",
    "print(list1)\n"
   ]
  },
  {
   "cell_type": "code",
   "execution_count": 12,
   "metadata": {},
   "outputs": [
    {
     "name": "stdout",
     "output_type": "stream",
     "text": [
      "['ere', 'rerm', 'ereer1', 'ereer2', 'ereer3', 'ere', 'rerm']\n"
     ]
    }
   ],
   "source": [
    "#remove\n",
    "list1.remove(\"rere\") #remove first occurances of the element\n",
    "print(list1)\n"
   ]
  },
  {
   "cell_type": "code",
   "execution_count": 14,
   "metadata": {},
   "outputs": [
    {
     "name": "stdout",
     "output_type": "stream",
     "text": [
      "['ere', 'ere', 'ereer1', 'ereer2', 'ereer3', 'rerm', 'rerm']\n",
      "['rerm', 'rerm', 'ereer3', 'ereer2', 'ereer1', 'ere', 'ere']\n"
     ]
    }
   ],
   "source": [
    "#sort\n",
    "#we cannot sort different data types together\n",
    "list1.sort()\n",
    "print(list1)\n",
    "\n",
    "#to reverse the sorting\n",
    "list1.sort(reverse=True)\n",
    "print(list1)"
   ]
  },
  {
   "cell_type": "code",
   "execution_count": 21,
   "metadata": {},
   "outputs": [
    {
     "name": "stdout",
     "output_type": "stream",
     "text": [
      "[0, 121, 23, 23, 'erre', 23, 2, 1]\n"
     ]
    }
   ],
   "source": [
    "#reverse() \n",
    "#we can reverse different data types \n",
    "\n",
    "llist=[1,2,23,\"erre\",23,23,121,0]\n",
    "# help(llist.reverse)\n",
    "# help(sorted)\n",
    "# help(llist.sort)   \n",
    "llist.reverse()\n",
    "print(llist)\n",
    "\n"
   ]
  },
  {
   "cell_type": "code",
   "execution_count": 22,
   "metadata": {},
   "outputs": [
    {
     "name": "stdout",
     "output_type": "stream",
     "text": [
      "[]\n"
     ]
    }
   ],
   "source": [
    "#clear ---> empty the list\n",
    "listt=[1,2,3,4]\n",
    "llist.clear()\n",
    "print(llist)\n",
    "\n"
   ]
  },
  {
   "cell_type": "code",
   "execution_count": 29,
   "metadata": {},
   "outputs": [
    {
     "name": "stdout",
     "output_type": "stream",
     "text": [
      "[1, 2, 2, 'wew', 22221]\n",
      "[1, 2, 2, 'wew', 22221, 21]\n",
      "[1, 2, 2, 'wew', 22221]\n",
      "[1, 2, 2, 'wew', 22221, 21]\n"
     ]
    }
   ],
   "source": [
    "#copy ----> return new copy\n",
    "llist1=[1,2,2,\"wew\",22221]\n",
    "x=llist1.copy()\n",
    "print(x)\n",
    "llist1.append(21) #shallow copy\n",
    "print(llist1)\n",
    "print(x)\n",
    "x.append(\"shallow\")\n",
    "x[0]=\"shallo\"\n",
    "print(llist1)"
   ]
  },
  {
   "cell_type": "code",
   "execution_count": 30,
   "metadata": {},
   "outputs": [
    {
     "name": "stdout",
     "output_type": "stream",
     "text": [
      "[1, 2, 3, 4, 5, 6]\n",
      "['X', 2, 3, 4, 5, 6]\n"
     ]
    }
   ],
   "source": [
    "#shallow copy on one dimensional \n",
    "\n",
    "original = [1, 2, 3, 4, 5, 6]\n",
    "shallow_copy = original.copy()  # or original[:]\n",
    "\n",
    "# Modify the inner list in the shallow copy\n",
    "shallow_copy[0] = 'X'\n",
    "\n",
    "print(original)    # Output: [['X', 2, 3], [4, 5, 6]]\n",
    "print(shallow_copy)  # Output: [['X', 2, 3], [4, 5, 6]]"
   ]
  },
  {
   "cell_type": "markdown",
   "metadata": {},
   "source": [
    "- Shallow copy shares inner mutable objects (like lists, dictionaries).\n",
    "\n",
    "- Changes to inner objects affect both the original and the copy.\n",
    "\n",
    "- Changes to the outer object (e.g., adding/removing elements) only affect the copy."
   ]
  },
  {
   "cell_type": "code",
   "execution_count": 32,
   "metadata": {},
   "outputs": [
    {
     "name": "stdout",
     "output_type": "stream",
     "text": [
      "[['X', 2, 3], [4, 5, 6]]\n",
      "[['X', 2, 3], [4, 5, 6], 'Rer']\n"
     ]
    }
   ],
   "source": [
    "#shallow copy in more than one dimension\n",
    "#if inner objects are mutable then it's shared \n",
    "\n",
    "original = [[1, 2, 3], [4, 5, 6]]\n",
    "copy = original.copy()  # New outer list, but inner lists are shared\n",
    "copy[0][0] = 'X'  # Change the first element of the first inner list\n",
    "copy.append(\"Rer\")\n",
    "print(original)  # Output: [['X', 2, 3], [4, 5, 6]] (original is affected)\n",
    "print(copy)      # Output: [['X', 2, 3], [4, 5, 6]]"
   ]
  },
  {
   "cell_type": "code",
   "execution_count": 34,
   "metadata": {},
   "outputs": [
    {
     "name": "stdout",
     "output_type": "stream",
     "text": [
      "4\n"
     ]
    }
   ],
   "source": [
    "#count()\n",
    "llist=[1,2,3,4,5,1,1,2,2,32,1]\n",
    "print(llist.count(1))"
   ]
  },
  {
   "cell_type": "code",
   "execution_count": 35,
   "metadata": {},
   "outputs": [
    {
     "name": "stdout",
     "output_type": "stream",
     "text": [
      "1\n"
     ]
    }
   ],
   "source": [
    "#index()\n",
    "llist=[2,3,3,5,2,4]\n",
    "print(llist.index(3))"
   ]
  },
  {
   "cell_type": "code",
   "execution_count": 36,
   "metadata": {},
   "outputs": [
    {
     "name": "stdout",
     "output_type": "stream",
     "text": [
      "[0, 1, 2, 3, 4, 5, 6]\n",
      "[0, 1, 2, 3, 4, 5, 33, 6]\n"
     ]
    }
   ],
   "source": [
    "#insert ---> add elements before the index\n",
    "llist=[1,2,3,4,5,6]\n",
    "llist.insert(0,0)\n",
    "print(llist)\n",
    "llist.insert(-1,33)\n",
    "print(llist)"
   ]
  },
  {
   "cell_type": "code",
   "execution_count": 38,
   "metadata": {},
   "outputs": [
    {
     "name": "stdout",
     "output_type": "stream",
     "text": [
      "[0, 1, 2, 3, 4, 5]\n",
      "[0, 1, 2, 3, 4]\n"
     ]
    }
   ],
   "source": [
    "#pop ---> removes element and by default the last element\n",
    "llist.pop()\n",
    "print(llist) \n",
    "llist.pop(-1)\n",
    "print(llist)"
   ]
  },
  {
   "cell_type": "markdown",
   "metadata": {},
   "source": [
    "# Tuples ()\n",
    "- they are items put inside parenthesis ()\n",
    "- ordered (use index to access items)\n",
    "- immutable\n",
    "- can have different types\n",
    "- non unique"
   ]
  },
  {
   "cell_type": "code",
   "execution_count": 41,
   "metadata": {},
   "outputs": [
    {
     "name": "stdout",
     "output_type": "stream",
     "text": [
      "<class 'str'>\n",
      "<class 'str'>\n",
      "<class 'tuple'>\n",
      "<class 'tuple'>\n"
     ]
    }
   ],
   "source": [
    "#tuple one item\n",
    "tub=(\"reem\") # this will just be a string\n",
    "tub1=\"reem\"\n",
    "tub2=(\"reem\",)\n",
    "tub3=\"reem\",\n",
    "\n",
    "print(type(tub))\n",
    "print(type(tub1))\n",
    "print(type(tub2))\n",
    "print(type(tub3))\n"
   ]
  },
  {
   "cell_type": "code",
   "execution_count": 44,
   "metadata": {},
   "outputs": [
    {
     "name": "stdout",
     "output_type": "stream",
     "text": [
      "(1, 2, 3, 4, 5, 6, 7, 8)\n",
      "(1, 2, 3, 4, 5, 6, 7, 8, 212, 323, 434)\n"
     ]
    }
   ],
   "source": [
    "#tuple concatention\n",
    "ttu=(1,2,3,4)\n",
    "ttu1=(5,6,7,8)\n",
    "\n",
    "print(ttu + ttu1)\n",
    "\n",
    "x=ttu + ttu1 + (212,323,434)\n",
    "print(x)\n"
   ]
  },
  {
   "cell_type": "code",
   "execution_count": 46,
   "metadata": {},
   "outputs": [
    {
     "name": "stdout",
     "output_type": "stream",
     "text": [
      "ReemReemReemReem\n",
      "('Reem', '24', 'Reem', '24', 'Reem', '24', 'Reem', '24')\n",
      "['rer', 24, 'rer', 24, 'rer', 24, 'rer', 24]\n"
     ]
    }
   ],
   "source": [
    "#string, list, tuple repeat\n",
    "sttr=\"Reem\"\n",
    "tupp=(\"Reem\",\"24\")\n",
    "llist=[\"rer\",24]\n",
    "\n",
    "print(sttr * 4)\n",
    "print(tupp * 4)\n",
    "print(llist * 4)\n"
   ]
  },
  {
   "cell_type": "markdown",
   "metadata": {},
   "source": [
    "# Python methods"
   ]
  },
  {
   "cell_type": "code",
   "execution_count": 47,
   "metadata": {},
   "outputs": [
    {
     "name": "stdout",
     "output_type": "stream",
     "text": [
      "4\n"
     ]
    }
   ],
   "source": [
    "#count()\n",
    "ttt=(1,2,34,23,1,22,11,1,212,323,1,\"rer\")\n",
    "print(ttt.count(1))\n"
   ]
  },
  {
   "cell_type": "code",
   "execution_count": 48,
   "metadata": {},
   "outputs": [
    {
     "name": "stdout",
     "output_type": "stream",
     "text": [
      "1\n"
     ]
    }
   ],
   "source": [
    "# index()\n",
    "print(ttt.index(2))"
   ]
  },
  {
   "cell_type": "code",
   "execution_count": 50,
   "metadata": {},
   "outputs": [
    {
     "name": "stdout",
     "output_type": "stream",
     "text": [
      "1\n",
      "2\n",
      "433\n",
      "1\n",
      "2\n",
      "4\n"
     ]
    }
   ],
   "source": [
    "#tuple unpacking\n",
    "a=(1,2,\"433\")\n",
    "x,y,z=a\n",
    "print(x)\n",
    "print(y)\n",
    "print(z)\n",
    "\n",
    "#more values than variables \n",
    "a=(1,2,\"433\",4)\n",
    "x,y,_,z=a #underscore ignore the item that has no varible \n",
    "print(x)\n",
    "print(y)\n",
    "print(z)"
   ]
  },
  {
   "cell_type": "markdown",
   "metadata": {},
   "source": [
    "# Set\n",
    "- not ordered\n",
    "- with curly braces\n",
    "- should only have immutable types \n",
    "- for example: tuble,string,number but not list\n",
    "- set is unique #if we duplicated item it will be appear\n"
   ]
  },
  {
   "cell_type": "code",
   "execution_count": 52,
   "metadata": {},
   "outputs": [
    {
     "name": "stdout",
     "output_type": "stream",
     "text": [
      "{1, 2, 3}\n"
     ]
    }
   ],
   "source": [
    "sset={1,2,3,1} #1 wil only appear once\n",
    "print(sset)\n",
    "\n"
   ]
  },
  {
   "cell_type": "code",
   "execution_count": 53,
   "metadata": {},
   "outputs": [
    {
     "ename": "TypeError",
     "evalue": "'set' object is not subscriptable",
     "output_type": "error",
     "traceback": [
      "\u001b[0;31m---------------------------------------------------------------------------\u001b[0m",
      "\u001b[0;31mTypeError\u001b[0m                                 Traceback (most recent call last)",
      "Cell \u001b[0;32mIn[53], line 1\u001b[0m\n\u001b[0;32m----> 1\u001b[0m \u001b[43msset\u001b[49m\u001b[43m[\u001b[49m\u001b[38;5;241;43m0\u001b[39;49m\u001b[43m]\u001b[49m\n",
      "\u001b[0;31mTypeError\u001b[0m: 'set' object is not subscriptable"
     ]
    }
   ],
   "source": [
    "sset[0]"
   ]
  },
  {
   "cell_type": "code",
   "execution_count": 54,
   "metadata": {},
   "outputs": [
    {
     "ename": "TypeError",
     "evalue": "unhashable type: 'list'",
     "output_type": "error",
     "traceback": [
      "\u001b[0;31m---------------------------------------------------------------------------\u001b[0m",
      "\u001b[0;31mTypeError\u001b[0m                                 Traceback (most recent call last)",
      "Cell \u001b[0;32mIn[54], line 1\u001b[0m\n\u001b[0;32m----> 1\u001b[0m sset1\u001b[38;5;241m=\u001b[39m{\u001b[38;5;241m1\u001b[39m,\u001b[38;5;241m2\u001b[39m,\u001b[38;5;241m4\u001b[39m,[\u001b[38;5;241m1\u001b[39m,\u001b[38;5;241m21\u001b[39m]}\n",
      "\u001b[0;31mTypeError\u001b[0m: unhashable type: 'list'"
     ]
    }
   ],
   "source": [
    "sset1={1,2,4,[1,21]}"
   ]
  },
  {
   "cell_type": "code",
   "execution_count": 55,
   "metadata": {},
   "outputs": [
    {
     "name": "stdout",
     "output_type": "stream",
     "text": [
      "set()\n"
     ]
    }
   ],
   "source": [
    "#clear()\n",
    "sset.clear()\n",
    "print(sset)"
   ]
  },
  {
   "cell_type": "code",
   "execution_count": 59,
   "metadata": {},
   "outputs": [
    {
     "name": "stdout",
     "output_type": "stream",
     "text": [
      "{1, 2, 4, 5, 6, 23}\n",
      "{1, 2, 4, 5, 6, 23}\n",
      "{1, 2, 4, 5, 6, 7, 8, 9, 23}\n"
     ]
    }
   ],
   "source": [
    "#union #adding two sets together\n",
    "s1={1,23,4,2}\n",
    "s2={4,5,6}\n",
    "s3={7,8,9}\n",
    "print(s1 | s2)\n",
    "# print(s1 + s2)\n",
    "print(s1.union(s2))\n",
    "print(s1.union(s2,s3))\n"
   ]
  },
  {
   "cell_type": "code",
   "execution_count": 61,
   "metadata": {},
   "outputs": [
    {
     "name": "stdout",
     "output_type": "stream",
     "text": [
      "{1, 2, 3, 4, 5, 6}\n"
     ]
    }
   ],
   "source": [
    "#add\n",
    "ss={1,2,3}\n",
    "ss.add(4)\n",
    "ss.add(5)\n",
    "ss.add(6)\n",
    "print(ss)"
   ]
  },
  {
   "cell_type": "code",
   "execution_count": null,
   "metadata": {},
   "outputs": [],
   "source": [
    "#copy\n",
    "#remove\n",
    "#discard ; doesn't issue an error if the value doesn't exist\n",
    "#pop"
   ]
  },
  {
   "cell_type": "code",
   "execution_count": 66,
   "metadata": {},
   "outputs": [
    {
     "name": "stdout",
     "output_type": "stream",
     "text": [
      "{1, 2, 4, 5, 6, 23}\n",
      "{1, 2, 4, 5, 6, 7, 8, 9, 23}\n",
      "{1, 2, 33, 4, 5, 6, 7, 8, 9, 11, 22, 23}\n"
     ]
    }
   ],
   "source": [
    "#update is the same as union\n",
    "s1={1,23,4,2}\n",
    "s2={4,5,6}\n",
    "s3={7,8,9}\n",
    "# print(s1 + s2)\n",
    "s1.update(s2)\n",
    "print(s1)\n",
    "s1.update(s2,s3)\n",
    "print(s1)\n",
    "s1.update([11,22,33])\n",
    "print(s1)"
   ]
  },
  {
   "cell_type": "code",
   "execution_count": 69,
   "metadata": {},
   "outputs": [
    {
     "name": "stdout",
     "output_type": "stream",
     "text": [
      "{1, 2, 3, 4}\n",
      "{4}\n",
      "{12, 21}\n",
      "{1, 2, 3, 4}\n"
     ]
    }
   ],
   "source": [
    "#difference\n",
    "a={1,2,3,4}\n",
    "b={12,3,2,21,1}\n",
    "\n",
    "print(a)\n",
    "print(a.difference(b)) #4\n",
    "print(b.difference(a)) #12,21\n",
    "print(a)"
   ]
  },
  {
   "cell_type": "code",
   "execution_count": 71,
   "metadata": {},
   "outputs": [
    {
     "name": "stdout",
     "output_type": "stream",
     "text": [
      "{1, 2, 3, 4}\n",
      "None\n",
      "{4}\n"
     ]
    }
   ],
   "source": [
    "#difference update\n",
    "a={1,2,3,4}\n",
    "b={12,3,2,21,1}\n",
    "\n",
    "print(a)\n",
    "print(a.difference_update(b)) #4\n",
    "print(a)"
   ]
  },
  {
   "cell_type": "code",
   "execution_count": 72,
   "metadata": {},
   "outputs": [
    {
     "name": "stdout",
     "output_type": "stream",
     "text": [
      "{1, 2, 3, 4, 'X'}\n",
      "{2}\n",
      "{1, 2, 3, 4, 'X'}\n"
     ]
    }
   ],
   "source": [
    "# intersection()\n",
    "c={1,2,3,4,\"X\"}\n",
    "d={\"5\",2,\"x\"}\n",
    "\n",
    "print(c)\n",
    "print(c.intersection(d)) #x&y\n",
    "print(c)"
   ]
  },
  {
   "cell_type": "code",
   "execution_count": 73,
   "metadata": {},
   "outputs": [
    {
     "name": "stdout",
     "output_type": "stream",
     "text": [
      "{1, 2, 3, 4, 'X'}\n",
      "None\n",
      "{2}\n"
     ]
    }
   ],
   "source": [
    "# intersection_update()\n",
    "c={1,2,3,4,\"X\"}\n",
    "d={\"5\",2,\"x\"}\n",
    "\n",
    "print(c)\n",
    "print(c.intersection_update(d))\n",
    "print(c)"
   ]
  },
  {
   "cell_type": "code",
   "execution_count": 74,
   "metadata": {},
   "outputs": [
    {
     "name": "stdout",
     "output_type": "stream",
     "text": [
      "{1, 2, 3, 4, 'X'}\n",
      "{1, 3, 4, 'X', '5', 'x'}\n",
      "{1, 2, 3, 4, 'X'}\n"
     ]
    }
   ],
   "source": [
    "#Symmetric_difference\n",
    "c={1,2,3,4,\"X\"}\n",
    "d={\"5\",2,\"x\"}\n",
    "\n",
    "print(c)\n",
    "print(c.symmetric_difference(d)) #x ^ y\n",
    "print(c)"
   ]
  },
  {
   "cell_type": "code",
   "execution_count": 76,
   "metadata": {},
   "outputs": [
    {
     "name": "stdout",
     "output_type": "stream",
     "text": [
      "{1, 2, 3, 4, 'X'}\n",
      "None\n",
      "{1, 3, 4, 'X', '5', 'x'}\n"
     ]
    }
   ],
   "source": [
    "#symmetric_difference_update\n",
    "c={1,2,3,4,\"X\"}\n",
    "d={\"5\",2,\"x\"}\n",
    "\n",
    "print(c)\n",
    "print(c.symmetric_difference_update(d)) #x ^ y\n",
    "print(c)"
   ]
  },
  {
   "cell_type": "code",
   "execution_count": 77,
   "metadata": {},
   "outputs": [
    {
     "name": "stdout",
     "output_type": "stream",
     "text": [
      "True\n"
     ]
    }
   ],
   "source": [
    "#methods that returns boolean\n",
    "a={1,2,3,4}\n",
    "b={3,4}\n",
    "print(a.issuperset(b))"
   ]
  },
  {
   "cell_type": "code",
   "execution_count": 79,
   "metadata": {},
   "outputs": [
    {
     "name": "stdout",
     "output_type": "stream",
     "text": [
      "True\n"
     ]
    }
   ],
   "source": [
    "#issubset\n",
    "a={1,2,3,4}\n",
    "b={3,4}\n",
    "print(b.issubset(a))"
   ]
  },
  {
   "cell_type": "code",
   "execution_count": 83,
   "metadata": {},
   "outputs": [
    {
     "name": "stdout",
     "output_type": "stream",
     "text": [
      "False\n",
      "True\n"
     ]
    }
   ],
   "source": [
    "#isdisjoint not part of it/have same items\n",
    "a={1,2,3,4}\n",
    "b={3,4}\n",
    "c={212,12}\n",
    "print(a.isdisjoint(b))\n",
    "print(c.isdisjoint(a))"
   ]
  },
  {
   "cell_type": "markdown",
   "metadata": {},
   "source": [
    "# Dictionary\n",
    "-{key:value}\n",
    "- dictionary key is immutable\n",
    "- can have different data types\n",
    "- dictionary key must be unique\n",
    "- not ordered (access by key)"
   ]
  },
  {
   "cell_type": "code",
   "execution_count": 90,
   "metadata": {},
   "outputs": [
    {
     "name": "stdout",
     "output_type": "stream",
     "text": [
      "{'name': 'osama', 'age': 24, 'country': 'Egypt', 'skills': ['html', 'c++', 'python']}\n",
      "24\n",
      "24\n",
      "dict_keys(['name', 'age', 'country', 'skills'])\n",
      "dict_values(['osama', 24, 'Egypt', ['html', 'c++', 'python']])\n",
      "dict_items([('name', 'osama'), ('age', 24), ('country', 'Egypt'), ('skills', ['html', 'c++', 'python'])])\n"
     ]
    }
   ],
   "source": [
    "#dictionary\n",
    "dic = {\"name\":\"osama\", \"age\":24, \"country\":\"Egypt\", \"skills\":[\"html\",\"c++\",\"python\"]}\n",
    "print(dic)\n",
    "print(dic[\"age\"])\n",
    "print(dic.get(\"age\"))\n",
    "\n",
    "print(dic.keys())\n",
    "print(dic.values())\n",
    "\n",
    "print(dic.items())"
   ]
  },
  {
   "cell_type": "markdown",
   "metadata": {},
   "source": [
    "# Two dimentional dictionary\n"
   ]
  },
  {
   "cell_type": "code",
   "execution_count": 91,
   "metadata": {},
   "outputs": [
    {
     "name": "stdout",
     "output_type": "stream",
     "text": [
      "{'dic1': {'one': 1, 'two': 2, 'three': 3}, 'dic2': {'a': 'Alpa', 'b': 'beta', 's': 'sigma'}, 'dic3': {'#': 'hash', '=': 'equal'}}\n",
      "{'one': 1, 'two': 2, 'three': 3}\n",
      "1\n"
     ]
    }
   ],
   "source": [
    "dic= {\n",
    "    \"dic1\" : {\"one\":1,\"two\":2,\"three\":3},\n",
    "    \"dic2\" : {\"a\":\"Alpa\",\"b\":\"beta\",\"s\":\"sigma\"},\n",
    "    \"dic3\" : {\"#\":\"hash\",\"=\":\"equal\"}\n",
    "}\n",
    "\n",
    "print(dic)\n",
    "print(dic[\"dic1\"])\n",
    "print(dic[\"dic1\"][\"one\"])"
   ]
  },
  {
   "cell_type": "code",
   "execution_count": 92,
   "metadata": {},
   "outputs": [
    {
     "name": "stdout",
     "output_type": "stream",
     "text": [
      "{'one': {'one': 1, 'two': 2, 'three': 3}, 'two': {'a': 'Alpa', 'b': 'beta', 's': 'sigma'}, 'three': {'#': 'hash', '=': 'equal'}}\n"
     ]
    }
   ],
   "source": [
    "#another way\n",
    "dic1 = {\"one\":1,\"two\":2,\"three\":3}\n",
    "dic2 = {\"a\":\"Alpa\",\"b\":\"beta\",\"s\":\"sigma\"}\n",
    "dic3 = {\"#\":\"hash\",\"=\":\"equal\"}\n",
    "\n",
    "dic ={\n",
    "    \"one\":dic1,\n",
    "    \"two\":dic2,\n",
    "    \"three\":dic3\n",
    "}\n",
    "\n",
    "print(dic)"
   ]
  },
  {
   "cell_type": "code",
   "execution_count": 93,
   "metadata": {},
   "outputs": [
    {
     "name": "stdout",
     "output_type": "stream",
     "text": [
      "{}\n"
     ]
    }
   ],
   "source": [
    "#Dictionary methods\n",
    "#clear()\n",
    "dic21={1:\"!21\",2:\"!21\",3:\"212\"}\n",
    "dic21.clear()\n",
    "print(dic21)"
   ]
  },
  {
   "cell_type": "code",
   "execution_count": 94,
   "metadata": {},
   "outputs": [
    {
     "name": "stdout",
     "output_type": "stream",
     "text": [
      "{}\n",
      "{3: '332', 4: '3234', 5: '2332'}\n",
      "{3: '332', 4: '3234', 5: '2332', 6: '221'}\n"
     ]
    }
   ],
   "source": [
    "#update\n",
    "print(dic21)\n",
    "dic21.update({3:\"332\",4:\"3234\",5:\"2332\"})\n",
    "print(dic21)\n",
    "\n",
    "#or\n",
    "dic21[6]=\"221\"\n",
    "print(dic21)"
   ]
  },
  {
   "cell_type": "code",
   "execution_count": null,
   "metadata": {},
   "outputs": [],
   "source": [
    "#copy()\n",
    "#.keys(),.values()"
   ]
  },
  {
   "cell_type": "code",
   "execution_count": 98,
   "metadata": {},
   "outputs": [
    {
     "name": "stdout",
     "output_type": "stream",
     "text": [
      "{1: 'one', 2: 'two', 3: 'three'}\n",
      "{1: 'one', 2: 'two', 3: 'three', 4: None}\n",
      "{1: 'one', 2: 'two', 3: 'three', 4: 'four'}\n",
      "{1: 'one', 2: 'two', 3: 'three', 4: 'four', 5: 'five'}\n"
     ]
    }
   ],
   "source": [
    "#setdefault ---> if it doesn't exist it adds it\n",
    "ddic={1:\"one\",2:\"two\",3:\"three\"}\n",
    "print(ddic)\n",
    "ddic.setdefault(4)\n",
    "print(ddic)\n",
    "ddic[4]=\"four\"\n",
    "print(ddic)\n",
    "\n",
    "ddic.setdefault(5,\"five\")\n",
    "print(ddic)"
   ]
  },
  {
   "cell_type": "code",
   "execution_count": 100,
   "metadata": {},
   "outputs": [
    {
     "name": "stdout",
     "output_type": "stream",
     "text": [
      "(4, 'four')\n",
      "(6, 'six')\n"
     ]
    }
   ],
   "source": [
    "#popitem return last member added\n",
    "print(ddic.popitem())\n",
    "\n",
    "ddic.update({6:\"six\"})\n",
    "print(ddic.popitem())"
   ]
  },
  {
   "cell_type": "code",
   "execution_count": 101,
   "metadata": {},
   "outputs": [
    {
     "data": {
      "text/plain": [
       "{1: 'reem', 2: 'reem', 3: 'reem'}"
      ]
     },
     "execution_count": 101,
     "metadata": {},
     "output_type": "execute_result"
    }
   ],
   "source": [
    "#fromkeys -->creats a new dic with keys you give\n",
    "a=(1,2,3)\n",
    "b=\"reem\"\n",
    "\n",
    "dict.fromkeys(a,b)\n",
    "\n"
   ]
  }
 ],
 "metadata": {
  "kernelspec": {
   "display_name": "Python 3",
   "language": "python",
   "name": "python3"
  },
  "language_info": {
   "codemirror_mode": {
    "name": "ipython",
    "version": 3
   },
   "file_extension": ".py",
   "mimetype": "text/x-python",
   "name": "python",
   "nbconvert_exporter": "python",
   "pygments_lexer": "ipython3",
   "version": "3.10.12"
  }
 },
 "nbformat": 4,
 "nbformat_minor": 2
}
