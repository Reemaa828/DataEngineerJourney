{
 "cells": [
  {
   "cell_type": "markdown",
   "metadata": {},
   "source": [
    "# loop \n",
    "- while\n",
    "- for loop"
   ]
  },
  {
   "cell_type": "code",
   "execution_count": null,
   "metadata": {},
   "outputs": [],
   "source": [
    "#a=0\n",
    "a=0\n",
    "while a<10:\n",
    "    print(a)\n",
    "    a+=1\n",
    "else: #we can add else to while when the loop is done it execute a block of code\n",
    "    print(\"the loop is done\") #if condition is false \n",
    "   "
   ]
  },
  {
   "cell_type": "code",
   "execution_count": 4,
   "metadata": {},
   "outputs": [
    {
     "name": "stdout",
     "output_type": "stream",
     "text": [
      "#00 Alice\n",
      "#01 Bob\n",
      "#02 Charlie\n",
      "#03 David\n",
      "#04 Eve\n",
      "#05 Frank\n",
      "#06 Grace\n",
      "#07 Hannah\n",
      "#08 Isaac\n",
      "#09 Jack\n",
      "#10 Katherine\n",
      "#11 Liam\n",
      "#12 Mia\n",
      "#13 Nathan\n"
     ]
    }
   ],
   "source": [
    "#looping a list\n",
    "names = [\n",
    "    \"Alice\", \"Bob\", \"Charlie\", \"David\", \"Eve\", \"Frank\", \"Grace\",  \n",
    "    \"Hannah\", \"Isaac\", \"Jack\", \"Katherine\", \"Liam\", \"Mia\", \"Nathan\"\n",
    "]\n",
    "a=0\n",
    "while a < len(names):\n",
    "    print(f\"#{str(a).zfill(2)} {names[a]}\")\n",
    "    a+=1\n"
   ]
  },
  {
   "cell_type": "code",
   "execution_count": 8,
   "metadata": {},
   "outputs": [
    {
     "name": "stdout",
     "output_type": "stream",
     "text": [
      "you have added google.com to bookmark\n",
      "you have 4 places left\n",
      "['https://google.com']\n",
      "you have added      faceebok.com to bookmark\n",
      "you have 3 places left\n",
      "['https://google.com', 'https://faceebok.com']\n",
      "you have added titktok.com to bookmark\n",
      "you have 2 places left\n",
      "['https://google.com', 'https://faceebok.com', 'https://titktok.com']\n",
      "you have added        sajsa.com to bookmark\n",
      "you have 1 places left\n",
      "['https://google.com', 'https://faceebok.com', 'https://titktok.com', 'https://sajsa.com']\n",
      "you have added           das.com to bookmark\n",
      "you have 0 places left\n",
      "['https://google.com', 'https://faceebok.com', 'https://titktok.com', 'https://sajsa.com', 'https://das.com']\n",
      "it's full\n"
     ]
    }
   ],
   "source": [
    "#practise -- bookmark adder\n",
    "\n",
    "#maximum allowed webs =5\n",
    "maxwebs=5\n",
    "\n",
    "#empty list\n",
    "webs=[]\n",
    "\n",
    "while maxwebs > 0:\n",
    "    site=input(\"please enter website\")\n",
    "    maxwebs-=1\n",
    "    print(f\"you have added {site} to bookmark\")\n",
    "    webs.append(f\"https://{site.strip()}\")\n",
    "    print(f\"you have {maxwebs} places left\")\n",
    "    print(webs)\n",
    "else:\n",
    "    print(\"it's full\") #With the else statement we can run a block of code once when the condition no longer is true:\n"
   ]
  },
  {
   "cell_type": "code",
   "execution_count": 11,
   "metadata": {},
   "outputs": [
    {
     "name": "stdout",
     "output_type": "stream",
     "text": [
      "B\n"
     ]
    }
   ],
   "source": [
    "a = 330\n",
    "b = 3301\n",
    "print(\"A\") if a > b else print(\"=\") if a == b else print(\"B\")"
   ]
  },
  {
   "cell_type": "code",
   "execution_count": 32,
   "metadata": {},
   "outputs": [
    {
     "name": "stdout",
     "output_type": "stream",
     "text": [
      "incorrect pass you have 3 chance left\n",
      "incorrect pass you have 2 chance left\n",
      "incorrect pass you have 1 chance left\n",
      "welcome\n"
     ]
    }
   ],
   "source": [
    "#practise writing password three times\n",
    "tries=4\n",
    "password=\"reemoto25\"\n",
    "\n",
    "while tries > 0:\n",
    "    mytry=input(\"please enter yoour paass\").strip()\n",
    "    if mytry==password:\n",
    "        print(\"welcome\")\n",
    "        break \n",
    "    else:\n",
    "         tries -=1\n",
    "         print(f\"incorrect pass you have {\"no\"if tries == 0 else tries} chance left\")\n",
    "else: #if the condition is false \n",
    "   print(\"access denied\")\n",
    "# mytry=input(\"please enter yoour paass\").strip()\n",
    "\n",
    "# while mytry != password:fd\n",
    "\n",
    "\n",
    "#     tries-=1 \n",
    "#     print(f\"you have {tries} left\")\n",
    "#     mytry=input(\"please enter yoour paass\").strip()\n",
    "#     if tries == 0:\n",
    "#         break\n"
   ]
  },
  {
   "cell_type": "code",
   "execution_count": 7,
   "metadata": {},
   "outputs": [
    {
     "name": "stdout",
     "output_type": "stream",
     "text": [
      "the 1 is odd\n",
      "the 2 is even\n",
      "the 3 is odd\n",
      "the 4 is even\n",
      "the 5 is odd\n",
      "the 6 is even\n",
      "the 7 is odd\n",
      "the 8 is even\n",
      "the 9 is odd\n",
      "the loop is finished\n"
     ]
    }
   ],
   "source": [
    "# for loop\n",
    "mylist=[1,2,3,4,5,6,7,8,9]\n",
    "for number in mylist:\n",
    "\n",
    "    if number%2==0:\n",
    "        print(f\"the {number} is even\")\n",
    "    else:\n",
    "        print(f\"the {number} is odd\")\n",
    "else: #optional if the loop finished\n",
    "    print(\"the loop is finished\")\n"
   ]
  },
  {
   "cell_type": "code",
   "execution_count": 19,
   "metadata": {},
   "outputs": [
    {
     "name": "stdout",
     "output_type": "stream",
     "text": [
      "('one', 1)\n",
      "('two', 2)\n",
      "('three', 3)\n",
      "('four', 4)\n",
      "('five', 5)\n",
      "one\n",
      "two\n",
      "three\n",
      "four\n",
      "five\n",
      "1\n",
      "2\n",
      "3\n",
      "4\n",
      "5\n",
      "1\n",
      "2\n"
     ]
    }
   ],
   "source": [
    "# for loop dictonary\n",
    "dic={\"one\":1,\"two\":2,\"three\":3,\"four\":4,\"five\":5}\n",
    "\n",
    "for value in dic.items(): #both but in a tuple\n",
    "    print(value)\n",
    "for value in dic: #dic keys\n",
    "    print(value)\n",
    "for value in dic.values(): \n",
    "    print(value)\n",
    "\n",
    "# for range\n",
    "for x in range(1,3):\n",
    "    print(x)"
   ]
  },
  {
   "cell_type": "code",
   "execution_count": 25,
   "metadata": {},
   "outputs": [
    {
     "name": "stdout",
     "output_type": "stream",
     "text": [
      "one and 1\n",
      "two and 2\n",
      "three and 3\n",
      "four and 4\n"
     ]
    }
   ],
   "source": [
    "# for loop advanced dictionary\n",
    "dic={\"one\":1,\"two\":2,\"three\":3,\"four\":4}\n",
    "\n",
    "for c_key, c_value in dic.items():\n",
    "    print(f\"{c_key} and {c_value}\")\n",
    "\n",
    "\n"
   ]
  },
  {
   "cell_type": "code",
   "execution_count": 30,
   "metadata": {},
   "outputs": [
    {
     "name": "stdout",
     "output_type": "stream",
     "text": [
      "reema c++ 90%\n",
      "reema c 70%\n",
      "reema python 80%\n",
      "rir c++ 99%\n",
      "rir c 77%\n",
      "rir python 88%\n",
      "rama c++ 1%\n",
      "rama c 2%\n",
      "rama python 23%\n",
      "reema\n",
      "the c++ is 90%\n",
      "the c is 70%\n",
      "the python is 80%\n",
      "rir\n",
      "the c++ is 99%\n",
      "the c is 77%\n",
      "the python is 88%\n",
      "rama\n",
      "the c++ is 1%\n",
      "the c is 2%\n",
      "the python is 23%\n"
     ]
    }
   ],
   "source": [
    "#nested loop\n",
    "\n",
    "people = {\n",
    "    \"reema\" : {\n",
    "        \"c++\":\"90%\",\n",
    "        \"c\" : \"70%\",\n",
    "        \"python\": \"80%\"\n",
    "    },\n",
    "    \"rir\": {\n",
    "        \"c++\":\"99%\",\n",
    "        \"c\" : \"77%\",\n",
    "        \"python\": \"88%\"\n",
    "    },\n",
    "    \"rama\": {\n",
    "        \"c++\":\"1%\",\n",
    "        \"c\" : \"2%\",\n",
    "        \"python\": \"23%\"\n",
    "    }\n",
    "}\n",
    "\n",
    "for name in people:\n",
    "    for skills in people.get(name):\n",
    "        print(name,skills,people.get(name).get(skills))\n",
    "\n",
    "\n",
    "#another way\n",
    "for name,skills in people.items():\n",
    "    print(f\"{name}\")\n",
    "    for sskills,percet in skills.items():\n",
    "        print(f\"the {sskills} is {percet}\")"
   ]
  },
  {
   "cell_type": "markdown",
   "metadata": {},
   "source": [
    "# more into loops\n",
    "- break  `to break out the loop `\n",
    "- contuine `to skip an iteration`\n",
    "- pass `to ignore empty block of code`"
   ]
  }
 ],
 "metadata": {
  "kernelspec": {
   "display_name": "Python 3",
   "language": "python",
   "name": "python3"
  },
  "language_info": {
   "codemirror_mode": {
    "name": "ipython",
    "version": 3
   },
   "file_extension": ".py",
   "mimetype": "text/x-python",
   "name": "python",
   "nbconvert_exporter": "python",
   "pygments_lexer": "ipython3",
   "version": "3.12.8"
  }
 },
 "nbformat": 4,
 "nbformat_minor": 2
}
