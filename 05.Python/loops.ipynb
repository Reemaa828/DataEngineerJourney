{
 "cells": [
  {
   "cell_type": "markdown",
   "metadata": {},
   "source": [
    "# loop \n",
    "- while"
   ]
  },
  {
   "cell_type": "code",
   "execution_count": null,
   "metadata": {},
   "outputs": [],
   "source": [
    "#a=0\n",
    "a=0\n",
    "while a<10:\n",
    "    print(a)\n",
    "    a+=1\n",
    "else: #we can add else to while when the loop is done it execute a block of code\n",
    "    print(\"the loop is done\") #if condition is false \n",
    "   "
   ]
  },
  {
   "cell_type": "code",
   "execution_count": 4,
   "metadata": {},
   "outputs": [
    {
     "name": "stdout",
     "output_type": "stream",
     "text": [
      "#00 Alice\n",
      "#01 Bob\n",
      "#02 Charlie\n",
      "#03 David\n",
      "#04 Eve\n",
      "#05 Frank\n",
      "#06 Grace\n",
      "#07 Hannah\n",
      "#08 Isaac\n",
      "#09 Jack\n",
      "#10 Katherine\n",
      "#11 Liam\n",
      "#12 Mia\n",
      "#13 Nathan\n"
     ]
    }
   ],
   "source": [
    "#looping a list\n",
    "names = [\n",
    "    \"Alice\", \"Bob\", \"Charlie\", \"David\", \"Eve\", \"Frank\", \"Grace\",  \n",
    "    \"Hannah\", \"Isaac\", \"Jack\", \"Katherine\", \"Liam\", \"Mia\", \"Nathan\"\n",
    "]\n",
    "a=0\n",
    "while a < len(names):\n",
    "    print(f\"#{str(a).zfill(2)} {names[a]}\")\n",
    "    a+=1\n"
   ]
  },
  {
   "cell_type": "code",
   "execution_count": 8,
   "metadata": {},
   "outputs": [
    {
     "name": "stdout",
     "output_type": "stream",
     "text": [
      "you have added google.com to bookmark\n",
      "you have 4 places left\n",
      "['https://google.com']\n",
      "you have added      faceebok.com to bookmark\n",
      "you have 3 places left\n",
      "['https://google.com', 'https://faceebok.com']\n",
      "you have added titktok.com to bookmark\n",
      "you have 2 places left\n",
      "['https://google.com', 'https://faceebok.com', 'https://titktok.com']\n",
      "you have added        sajsa.com to bookmark\n",
      "you have 1 places left\n",
      "['https://google.com', 'https://faceebok.com', 'https://titktok.com', 'https://sajsa.com']\n",
      "you have added           das.com to bookmark\n",
      "you have 0 places left\n",
      "['https://google.com', 'https://faceebok.com', 'https://titktok.com', 'https://sajsa.com', 'https://das.com']\n",
      "it's full\n"
     ]
    }
   ],
   "source": [
    "#practise -- bookmark adder\n",
    "\n",
    "#maximum allowed webs =5\n",
    "maxwebs=5\n",
    "\n",
    "#empty list\n",
    "webs=[]\n",
    "\n",
    "while maxwebs > 0:\n",
    "    site=input(\"please enter website\")\n",
    "    maxwebs-=1\n",
    "    print(f\"you have added {site} to bookmark\")\n",
    "    webs.append(f\"https://{site.strip()}\")\n",
    "    print(f\"you have {maxwebs} places left\")\n",
    "    print(webs)\n",
    "else:\n",
    "    print(\"it's full\") #With the else statement we can run a block of code once when the condition no longer is true:\n"
   ]
  },
  {
   "cell_type": "code",
   "execution_count": 11,
   "metadata": {},
   "outputs": [
    {
     "name": "stdout",
     "output_type": "stream",
     "text": [
      "B\n"
     ]
    }
   ],
   "source": [
    "a = 330\n",
    "b = 3301\n",
    "print(\"A\") if a > b else print(\"=\") if a == b else print(\"B\")"
   ]
  },
  {
   "cell_type": "code",
   "execution_count": 32,
   "metadata": {},
   "outputs": [
    {
     "name": "stdout",
     "output_type": "stream",
     "text": [
      "incorrect pass you have 3 chance left\n",
      "incorrect pass you have 2 chance left\n",
      "incorrect pass you have 1 chance left\n",
      "welcome\n"
     ]
    }
   ],
   "source": [
    "#practise writing password three times\n",
    "tries=4\n",
    "password=\"reemoto25\"\n",
    "\n",
    "while tries > 0:\n",
    "    mytry=input(\"please enter yoour paass\").strip()\n",
    "    if mytry==password:\n",
    "        print(\"welcome\")\n",
    "        break \n",
    "    else:\n",
    "         tries -=1\n",
    "         print(f\"incorrect pass you have {\"no\"if tries == 0 else tries} chance left\")\n",
    "else: #if the condition is false \n",
    "   print(\"access denied\")\n",
    "# mytry=input(\"please enter yoour paass\").strip()\n",
    "\n",
    "# while mytry != password:fd\n",
    "\n",
    "\n",
    "#     tries-=1 \n",
    "#     print(f\"you have {tries} left\")\n",
    "#     mytry=input(\"please enter yoour paass\").strip()\n",
    "#     if tries == 0:\n",
    "#         break\n"
   ]
  },
  {
   "cell_type": "code",
   "execution_count": null,
   "metadata": {},
   "outputs": [],
   "source": []
  },
  {
   "cell_type": "code",
   "execution_count": null,
   "metadata": {},
   "outputs": [],
   "source": []
  }
 ],
 "metadata": {
  "kernelspec": {
   "display_name": "Python 3",
   "language": "python",
   "name": "python3"
  },
  "language_info": {
   "codemirror_mode": {
    "name": "ipython",
    "version": 3
   },
   "file_extension": ".py",
   "mimetype": "text/x-python",
   "name": "python",
   "nbconvert_exporter": "python",
   "pygments_lexer": "ipython3",
   "version": "3.12.8"
  }
 },
 "nbformat": 4,
 "nbformat_minor": 2
}
